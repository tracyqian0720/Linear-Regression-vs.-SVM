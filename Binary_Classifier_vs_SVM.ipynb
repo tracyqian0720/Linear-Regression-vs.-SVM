{
  "nbformat": 4,
  "nbformat_minor": 0,
  "metadata": {
    "colab": {
      "name": "Binary Classifier vs. SVM.ipynb",
      "provenance": []
    },
    "kernelspec": {
      "name": "python3",
      "display_name": "Python 3"
    },
    "language_info": {
      "name": "python"
    }
  },
  "cells": [
    {
      "cell_type": "markdown",
      "metadata": {
        "id": "3LijrNi_oPEV"
      },
      "source": [
        "# Tracy Qian ECE421 Assignment #3"
      ]
    },
    {
      "cell_type": "markdown",
      "metadata": {
        "id": "JtmyPKTdE9ne"
      },
      "source": [
        "Install Dependencies"
      ]
    },
    {
      "cell_type": "code",
      "metadata": {
        "id": "_kwZXPFOETT7"
      },
      "source": [
        "import sklearn\n",
        "from sklearn import model_selection,datasets\n",
        "from sklearn.model_selection import train_test_split\n",
        "from sklearn.svm import SVC\n",
        "from sklearn.linear_model import LogisticRegression as LR\n",
        "import matplotlib.pyplot as plt\n",
        "import numpy as np\n",
        "from sklearn import metrics"
      ],
      "execution_count": 3,
      "outputs": []
    },
    {
      "cell_type": "markdown",
      "metadata": {
        "id": "itHRfFB_Oo9C"
      },
      "source": [
        "Collect trianing and testing data"
      ]
    },
    {
      "cell_type": "code",
      "metadata": {
        "id": "1B8uVovtGztX"
      },
      "source": [
        "train_x,train_y = datasets.load_iris('iris')\n",
        "train_x = train_x[:100,:2]\n",
        "train_y = train_y[:100]\n",
        "X_train, X_test, y_train, y_test = train_test_split(train_x,train_y,test_size=0.8,random_state=0)"
      ],
      "execution_count": 21,
      "outputs": []
    },
    {
      "cell_type": "markdown",
      "metadata": {
        "id": "0GpCqYCErRxD"
      },
      "source": [
        "**#1Binary Classifier**"
      ]
    },
    {
      "cell_type": "markdown",
      "metadata": {
        "id": "2kL6enE3OsUb"
      },
      "source": [
        "Training Binary model (linear regression)"
      ]
    },
    {
      "cell_type": "code",
      "metadata": {
        "colab": {
          "base_uri": "https://localhost:8080/",
          "height": 0
        },
        "id": "Q1qxAFJXOogz",
        "outputId": "82040425-a6df-40bb-8f53-a4ed1d21d4ea"
      },
      "source": [
        "#clf = LR(random_state=0).fit(X_train, y_train)\n",
        "\n",
        "logreg = LR()\n",
        "logreg.fit(X_train, y_train)"
      ],
      "execution_count": 39,
      "outputs": [
        {
          "output_type": "execute_result",
          "data": {
            "text/plain": [
              "LogisticRegression(C=1.0, class_weight=None, dual=False, fit_intercept=True,\n",
              "                   intercept_scaling=1, l1_ratio=None, max_iter=100,\n",
              "                   multi_class='auto', n_jobs=None, penalty='l2',\n",
              "                   random_state=None, solver='lbfgs', tol=0.0001, verbose=0,\n",
              "                   warm_start=False)"
            ]
          },
          "metadata": {},
          "execution_count": 39
        }
      ]
    },
    {
      "cell_type": "markdown",
      "metadata": {
        "id": "Mu-51zwYsFqI"
      },
      "source": [
        "Visualize decision boundary"
      ]
    },
    {
      "cell_type": "code",
      "metadata": {
        "colab": {
          "base_uri": "https://localhost:8080/",
          "height": 285
        },
        "id": "HtRDonbARmtE",
        "outputId": "903e8012-78f0-4a81-dc8d-44afa2d44ef9"
      },
      "source": [
        "w1,w2 = clf.coef_.T\n",
        "b = clf.intercept_\n",
        "c = -b/w2\n",
        "m = -w1/w2\n",
        "\n",
        "xmin, xmax = 3.5, 7\n",
        "ymin, ymax = 1, 5\n",
        "xd = np.array([xmin, xmax])\n",
        "yd = m*xd + c\n",
        "plt.plot(xd, yd, 'k', lw=1, ls='--')\n",
        "plt.fill_between(xd, yd, ymin, color='tab:blue', alpha=0.2)\n",
        "plt.fill_between(xd, yd, ymax, color='tab:orange', alpha=0.2)\n",
        "\n",
        "plt.scatter(*X_train[y_train==0].T, s=8, alpha=0.5)\n",
        "plt.scatter(*X_train[y_train==1].T, s=8, alpha=0.5)\n",
        "plt.xlim(xmin, xmax)\n",
        "plt.ylim(ymin, ymax)\n",
        "plt.ylabel(r'$x_2$')\n",
        "plt.xlabel(r'$x_1$')\n",
        "\n",
        "plt.show()"
      ],
      "execution_count": 47,
      "outputs": [
        {
          "output_type": "display_data",
          "data": {
            "image/png": "[encoded data removed]",
            "text/plain": [
              "<Figure size 432x288 with 1 Axes>"
            ]
          },
          "metadata": {
            "needs_background": "light"
          }
        }
      ]
    },
    {
      "cell_type": "markdown",
      "metadata": {
        "id": "2Brj4WB3f1ZU"
      },
      "source": [
        "Calculate Accuracy"
      ]
    },
    {
      "cell_type": "code",
      "metadata": {
        "colab": {
          "base_uri": "https://localhost:8080/",
          "height": 0
        },
        "id": "t4tJcNmeZKem",
        "outputId": "4da0d44f-03c9-4536-d4de-d0b4c838361e"
      },
      "source": [
        "#2\n",
        "y_pred_class = logreg.predict(X_test)\n",
        "print(\"TESTING SET ACCURACY IS\")\n",
        "print(metrics.accuracy_score(y_test, y_pred_class))\n",
        "\n",
        "y_pred_class = logreg.predict(X_train)\n",
        "print(\"TRAINING SET ACCURACY IS\")\n",
        "print(metrics.accuracy_score(y_train, y_pred_class))"
      ],
      "execution_count": 85,
      "outputs": [
        {
          "output_type": "stream",
          "name": "stdout",
          "text": [
            "TESTING SET ACCURACY IS\n",
            "0.9875\n",
            "TRAINING SET ACCURACY IS\n",
            "1.0\n"
          ]
        }
      ]
    },
    {
      "cell_type": "markdown",
      "metadata": {
        "id": "7N_xIADKo6kM"
      },
      "source": [
        "**Support Vector Machine**"
      ]
    },
    {
      "cell_type": "markdown",
      "metadata": {
        "id": "5QYOFtKkqWfe"
      },
      "source": [
        "Train SVD model"
      ]
    },
    {
      "cell_type": "code",
      "metadata": {
        "colab": {
          "base_uri": "https://localhost:8080/",
          "height": 0
        },
        "id": "OeeuqOjWqVqh",
        "outputId": "1a9d4918-8691-49db-c6b2-5ce1e2da7b16"
      },
      "source": [
        "SVM_clf = SVC(kernel='linear',C = 1000)\n",
        "SVM_clf.fit(X_train, y_train)"
      ],
      "execution_count": 80,
      "outputs": [
        {
          "output_type": "execute_result",
          "data": {
            "text/plain": [
              "SVC(C=1000, break_ties=False, cache_size=200, class_weight=None, coef0=0.0,\n",
              "    decision_function_shape='ovr', degree=3, gamma='scale', kernel='linear',\n",
              "    max_iter=-1, probability=False, random_state=None, shrinking=True,\n",
              "    tol=0.001, verbose=False)"
            ]
          },
          "metadata": {},
          "execution_count": 80
        }
      ]
    },
    {
      "cell_type": "markdown",
      "metadata": {
        "id": "GyvxNafmr6We"
      },
      "source": [
        "Visualize decision boundary of the classier and its margins"
      ]
    },
    {
      "cell_type": "code",
      "metadata": {
        "colab": {
          "base_uri": "https://localhost:8080/",
          "height": 285
        },
        "id": "MfmgF1c4f9KY",
        "outputId": "2a922073-27be-4158-b779-1829a4cbe2cd"
      },
      "source": [
        "#3\n",
        "w1, w2 = SVM_clf.coef_.T\n",
        "b = SVM_clf.intercept_\n",
        "\n",
        "xmin, xmax = 3.5, 7\n",
        "ymin, ymax = 1, 5\n",
        "\n",
        "a = -w1 / w2\n",
        "xd = np.array([xmin, xmax])\n",
        "yd = a * xd - (b) / w2\n",
        "\n",
        "margin = 1 / np.sqrt(np.sum(SVM_clf.coef_ ** 2))\n",
        "yy_down = yd - np.sqrt(1 + a**2)*margin\n",
        "yy_up = yd + np.sqrt(1 + a**2)*margin\n",
        "\n",
        "plt.plot(xd, yd, 'k', lw=1, ls='--')\n",
        "plt.plot(xd, yd, \"k\")\n",
        "plt.plot(xd, yy_down, \"k\")\n",
        "plt.plot(xd, yy_up, \"k\")\n",
        "\n",
        "plt.scatter(X_train[y_train == 0][:,0],X_train[y_train == 0][:,1], label = \"blue\")\n",
        "plt.scatter(X_train[y_train == 1][:,0], X_train[y_train == 1][:,1], label = \"red\")\n",
        "plt.scatter(SVM_clf.support_vectors_[:, 0], SVM_clf.support_vectors_[:, 1], s=80,\n",
        " facecolors=\"none\", zorder=10, edgecolors=\"k\")\n",
        "\n",
        "plt.xlim(xmin, xmax)\n",
        "plt.ylim(ymin, ymax)\n",
        "plt.ylabel(r'$x_2$')\n",
        "plt.xlabel(r'$x_1$')\n",
        "\n",
        "plt.show()"
      ],
      "execution_count": 81,
      "outputs": [
        {
          "output_type": "display_data",
          "data": {
            "image/png": "[encoded data removed]",
            "text/plain": [
              "<Figure size 432x288 with 1 Axes>"
            ]
          },
          "metadata": {
            "needs_background": "light"
          }
        }
      ]
    },
    {
      "cell_type": "code",
      "metadata": {
        "id": "ydD-OOglPcUR"
      },
      "source": [
        "#4\n",
        "print(\"alpha for non support vector is zero\")"
      ],
      "execution_count": null,
      "outputs": []
    },
    {
      "cell_type": "markdown",
      "metadata": {
        "id": "KeC1POjasVf9"
      },
      "source": [
        "Calculate Accuracy"
      ]
    },
    {
      "cell_type": "code",
      "metadata": {
        "colab": {
          "base_uri": "https://localhost:8080/",
          "height": 0
        },
        "id": "KF9kN436rX__",
        "outputId": "2bf2e5d2-1ccf-43b0-c5e4-d66c0469a646"
      },
      "source": [
        "#5\n",
        "y_pred_class = SVM_clf.predict(X_test)\n",
        "print(\"TESTING SET ACCURACY IS\")\n",
        "print(metrics.accuracy_score(y_test, y_pred_class))\n",
        "\n",
        "y_pred_class = SVM_clf.predict(X_train)\n",
        "print(\"TRAINING SET ACCURACY IS\")\n",
        "print(metrics.accuracy_score(y_train, y_pred_class))"
      ],
      "execution_count": 86,
      "outputs": [
        {
          "output_type": "stream",
          "name": "stdout",
          "text": [
            "TESTING SET ACCURACY IS\n",
            "1.0\n",
            "TRAINING SET ACCURACY IS\n",
            "1.0\n"
          ]
        }
      ]
    },
    {
      "cell_type": "code",
      "metadata": {
        "colab": {
          "base_uri": "https://localhost:8080/",
          "height": 0
        },
        "id": "gBkMkZaSsiMb",
        "outputId": "ae8993c2-5a06-4955-8d22-29c2b6720866"
      },
      "source": [
        "#6\n",
        "print(margin*2)\n",
        "#7\n",
        "print(\"vector w is orthongonal to decision boundary (hyperplane)\")"
      ],
      "execution_count": 96,
      "outputs": [
        {
          "output_type": "stream",
          "name": "stdout",
          "text": [
            "0.42430075463962524\n",
            "vector w is orthongonal to decision boundary (hyperplane)\n"
          ]
        }
      ]
    },
    {
      "cell_type": "markdown",
      "metadata": {
        "id": "x_Q_FEnFv_H4"
      },
      "source": [
        "**#8 Trained model again with 0.4 test size**"
      ]
    },
    {
      "cell_type": "code",
      "metadata": {
        "id": "SbrXr5--wFdn"
      },
      "source": [
        "train_x,train_y = datasets.load_iris('iris')\n",
        "train_x = train_x[:100,:2]\n",
        "train_y = train_y[:100]\n",
        "X_train, X_test, y_train, y_test = train_test_split(train_x,train_y,test_size=0.4,random_state=0)"
      ],
      "execution_count": 102,
      "outputs": []
    },
    {
      "cell_type": "code",
      "metadata": {
        "colab": {
          "base_uri": "https://localhost:8080/",
          "height": 0
        },
        "id": "SUBZIioQ9oyF",
        "outputId": "5e939a7e-50f7-4796-b523-a789b94bc2e7"
      },
      "source": [
        "SVM_clf = SVC(kernel='linear',C = 1000)\n",
        "SVM_clf.fit(X_train, y_train)"
      ],
      "execution_count": 103,
      "outputs": [
        {
          "output_type": "execute_result",
          "data": {
            "text/plain": [
              "SVC(C=1000, break_ties=False, cache_size=200, class_weight=None, coef0=0.0,\n",
              "    decision_function_shape='ovr', degree=3, gamma='scale', kernel='linear',\n",
              "    max_iter=-1, probability=False, random_state=None, shrinking=True,\n",
              "    tol=0.001, verbose=False)"
            ]
          },
          "metadata": {},
          "execution_count": 103
        }
      ]
    },
    {
      "cell_type": "code",
      "metadata": {
        "colab": {
          "base_uri": "https://localhost:8080/",
          "height": 285
        },
        "id": "3IwC9BnRwO-7",
        "outputId": "04f6d860-a15e-4884-a306-6cdde64e64ef"
      },
      "source": [
        "w1, w2 = SVM_clf.coef_.T\n",
        "b = SVM_clf.intercept_\n",
        "\n",
        "xmin, xmax = 3.5, 7\n",
        "ymin, ymax = 1, 5\n",
        "\n",
        "a = -w1 / w2\n",
        "xd = np.array([xmin, xmax])\n",
        "yd = a * xd - (b) / w2\n",
        "\n",
        "margin = 1 / np.sqrt(np.sum(SVM_clf.coef_ ** 2))\n",
        "yy_down = yd - np.sqrt(1 + a**2)*margin\n",
        "yy_up = yd + np.sqrt(1 + a**2)*margin\n",
        "\n",
        "plt.plot(xd, yd, 'k', lw=1, ls='--')\n",
        "plt.plot(xd, yd, \"k\")\n",
        "plt.plot(xd, yy_down, \"k\")\n",
        "plt.plot(xd, yy_up, \"k\")\n",
        "\n",
        "plt.scatter(X_train[y_train == 0][:,0],X_train[y_train == 0][:,1], label = \"blue\")\n",
        "plt.scatter(X_train[y_train == 1][:,0], X_train[y_train == 1][:,1], label = \"red\")\n",
        "plt.scatter(SVM_clf.support_vectors_[:, 0], SVM_clf.support_vectors_[:, 1], s=80,\n",
        " facecolors=\"none\", zorder=10, edgecolors=\"k\")\n",
        "\n",
        "plt.xlim(xmin, xmax)\n",
        "plt.ylim(ymin, ymax)\n",
        "plt.ylabel(r'$x_2$')\n",
        "plt.xlabel(r'$x_1$')\n",
        "\n",
        "plt.show()"
      ],
      "execution_count": 104,
      "outputs": [
        {
          "output_type": "display_data",
          "data": {
            "image/png": "[encoded data removed]",
            "text/plain": [
              "<Figure size 432x288 with 1 Axes>"
            ]
          },
          "metadata": {
            "needs_background": "light"
          }
        }
      ]
    },
    {
      "cell_type": "code",
      "metadata": {
        "colab": {
          "base_uri": "https://localhost:8080/",
          "height": 0
        },
        "id": "p2GRMixtwUFZ",
        "outputId": "a7d3bc8a-65a6-41c7-84eb-0dd3aa389a47"
      },
      "source": [
        "y_pred_class = SVM_clf.predict(X_test)\n",
        "print(\"TESTING SET ACCURACY IS\")\n",
        "print(metrics.accuracy_score(y_test, y_pred_class))\n",
        "\n",
        "y_pred_class = SVM_clf.predict(X_train)\n",
        "print(\"TRAINING SET ACCURACY IS\")\n",
        "print(metrics.accuracy_score(y_train, y_pred_class))\n",
        "\n",
        "print(margin*2)"
      ],
      "execution_count": 97,
      "outputs": [
        {
          "output_type": "stream",
          "name": "stdout",
          "text": [
            "TESTING SET ACCURACY IS\n",
            "1.0\n",
            "TRAINING SET ACCURACY IS\n",
            "1.0\n",
            "0.42430075463962524\n"
          ]
        }
      ]
    },
    {
      "cell_type": "code",
      "metadata": {
        "colab": {
          "base_uri": "https://localhost:8080/",
          "height": 0
        },
        "id": "_Q4HciNBwfpO",
        "outputId": "f44afe1e-f40a-46b4-f0e8-a3ad22bacb6f"
      },
      "source": [
        "print(\"the deicison boundary didn't change, because the accuracy is still 100% \")"
      ],
      "execution_count": 94,
      "outputs": [
        {
          "output_type": "stream",
          "name": "stdout",
          "text": [
            "the deicison boundary didn't change, because the accuracy is still 100% \n"
          ]
        }
      ]
    },
    {
      "cell_type": "code",
      "metadata": {
        "id": "ntCiaErz9ER5"
      },
      "source": [
        "#9\n",
        "print(\"binary linear classier and SVM have different decision boundaries\")"
      ],
      "execution_count": null,
      "outputs": []
    },
    {
      "cell_type": "markdown",
      "metadata": {
        "id": "dQha42ql9Pkh"
      },
      "source": [
        "**#10 Training Full Iris Dataset**"
      ]
    },
    {
      "cell_type": "code",
      "metadata": {
        "id": "aDlnbxFW9UgX"
      },
      "source": [
        "train_x,train_y = datasets.load_iris('iris')\n",
        "train_x = train_x[:,:2]\n",
        "train_y = train_y[:]\n",
        "X_train, X_test, y_train, y_test = train_test_split(train_x,train_y,test_size=0.4,random_state=0)"
      ],
      "execution_count": 20,
      "outputs": []
    },
    {
      "cell_type": "code",
      "metadata": {
        "colab": {
          "base_uri": "https://localhost:8080/",
          "height": 0
        },
        "id": "--Vf1dB89jOc",
        "outputId": "db7bdecb-052b-4e82-a68c-72d828d33b16"
      },
      "source": [
        "clf = SVC(kernel='poly', degree=3, C=1000)\n",
        "clf.fit(X_train, y_train)"
      ],
      "execution_count": 21,
      "outputs": [
        {
          "output_type": "execute_result",
          "data": {
            "text/plain": [
              "SVC(C=1000, break_ties=False, cache_size=200, class_weight=None, coef0=0.0,\n",
              "    decision_function_shape='ovr', degree=3, gamma='scale', kernel='poly',\n",
              "    max_iter=-1, probability=False, random_state=None, shrinking=True,\n",
              "    tol=0.001, verbose=False)"
            ]
          },
          "metadata": {},
          "execution_count": 21
        }
      ]
    },
    {
      "cell_type": "code",
      "metadata": {
        "colab": {
          "base_uri": "https://localhost:8080/",
          "height": 265
        },
        "id": "wiBm0Dk1hF_K",
        "outputId": "1e386ffe-6f2f-4596-ca84-024ced245a81"
      },
      "source": [
        "xmin, xmax = 3, 8\n",
        "ymin, ymax = 1, 5\n",
        "h = 0.05\n",
        "\n",
        "xx, yy = np.meshgrid(np.arange(xmin, xmax, h),\n",
        "                     np.arange(ymin, ymax, h))\n",
        "\n",
        "Z = clf.predict(np.c_[xx.ravel(), yy.ravel()])\n",
        "\n",
        "Z = Z.reshape(xx.shape)\n",
        "plt.contourf(xx, yy, Z, cmap=plt.cm.coolwarm, alpha=0.8)\n",
        "\n",
        "plt.scatter(X_train[y_train == 0][:,0],X_train[y_train == 0][:,1], label = \"blue\")\n",
        "plt.scatter(X_train[y_train == 1][:,0], X_train[y_train == 1][:,1], label = \"red\")\n",
        "plt.scatter(X_train[y_train == 2][:,0], X_train[y_train == 2][:,1], label = \"green\")\n",
        "\n",
        "plt.show()\n"
      ],
      "execution_count": 26,
      "outputs": [
        {
          "output_type": "display_data",
          "data": {
            "image/png": "[encoded data removed]",
            "text/plain": [
              "<Figure size 432x288 with 1 Axes>"
            ]
          },
          "metadata": {
            "needs_background": "light"
          }
        }
      ]
    },
    {
      "cell_type": "markdown",
      "metadata": {
        "id": "9xSBO9hc-OrC"
      },
      "source": [
        "If we use the whole 150 data, it is no longer 2 classes thus can't be separated into 2 classes. We need 3 lines to classify the 3 classes. "
      ]
    }
  ]
}